{
  "cells": [
    {
      "cell_type": "markdown",
      "metadata": {
        "id": "oVaAea-wCM6H"
      },
      "source": [
        "# Ficha de Expressões Regulares 1"
      ]
    },
    {
      "cell_type": "markdown",
      "metadata": {
        "id": "gk5jnHXt9t4y"
      },
      "source": [
        "### Conceitos básicos de expressões regulares\n",
        "\n",
        "- `a` - corresponde a uma ocorrência do caracter `a`.\n",
        "- `a?` - corresponde a 0 ou 1 ocorrências do caracter `a`.\n",
        "- `a+` - corresponde a 1 ou mais ocorrências do caracter `a`.\n",
        "- `a*` - corresponde a 0 ou mais ocorrências do caracter `a`.\n",
        "- `[abc]` - corresponde a uma ocorrência de um dos caracteres `a`, `b` ou `c`.\n",
        "- `[a-z]` - corresponde a uma ocorrência de um caracter entre `a` e `z`.\n",
        "- `^` - corresponde ao início da string.\n",
        "- `$` - corresponde ao fim da string.\n",
        "- `[^abc]` - corresponde a uma ocorrência de qualquer caracter que não seja `a`, `b` ou `c`.\n",
        "\n",
        "Podemos usar o operador de união para unir várias expressões regulares. Por exemplo: `a|bbb|[^a-z]`, que corresponde a uma das várias (neste caso, 3) expressões regulares que fazem parte da união.\n",
        "\n",
        "Podemos simplificar expressões regulares como `bbb` para `b{3}`, ou seja, 3 ocorrências consecutivas do caracter `b`, neste caso. Outras opções incluem `b{3,}` para 3 ou mais ocorrências ou `b{3,6}` para entre 3 a 6 ocorrências, por exemplo.\n",
        "\n",
        "Para formar grupos de expressões regulares, usamos parênteses. Por exemplo: `((abc)*|[0-9]+)?`. Os operadores após um grupo atuam sobre o grupo.\n",
        "\n",
        "Podemos ainda aplicar modificadores a grupos. Por exemplo, `(?i:teste)` corresponde à expressão \"teste\", escrita com qualquer combinação de maiúsculas e minúsculas (e.g., \"TESTE\", \"tEsTe\", \"TEste\", etc.)."
      ]
    },
    {
      "cell_type": "code",
      "execution_count": 3,
      "metadata": {},
      "outputs": [],
      "source": [
        "import re"
      ]
    },
    {
      "cell_type": "markdown",
      "metadata": {
        "id": "yDRt0yOgJ-TW"
      },
      "source": [
        "## Exercício 1"
      ]
    },
    {
      "cell_type": "markdown",
      "metadata": {
        "id": "gI05knhniDCr"
      },
      "source": [
        "### Alínea 1.1\n",
        "\n",
        "Dada uma linha de texto, define um programa que determina se a palavra \"hello\" aparece no início da linha.\n",
        "\n",
        "Conceitos importantes para este exercício:\n",
        "\n",
        "- `re.match(pattern, string[, flags])` - analisa a `string` e tenta encontrar uma correspondência para a expressão regular `pattern` a partir do início da string. Devolve `None` se não encontrar nenhuma correspondência.\n",
        "- `r\"\"` - string correspondente a uma expressão regular."
      ]
    },
    {
      "cell_type": "code",
      "execution_count": 26,
      "metadata": {
        "id": "ufl-7TGph9WH"
      },
      "outputs": [
        {
          "name": "stdout",
          "output_type": "stream",
          "text": [
            "True\n",
            "False\n",
            "False\n"
          ]
        }
      ],
      "source": [
        "line1 = \"hello world\"\n",
        "line2 = \"goodbye world\"\n",
        "line3 = \"hi, hello there\"\n",
        "\n",
        "lines = [line1, line2, line3]\n",
        "\n",
        "def hello_start(lines):\n",
        "    for line in lines:\n",
        "        res = re.match(r\"hello\", line)\n",
        "        print(res != None)\n",
        "\n",
        "hello_start(lines)"
      ]
    },
    {
      "cell_type": "markdown",
      "metadata": {
        "id": "gzgOACqiJ7VN"
      },
      "source": [
        "### Alínea 1.2\n",
        "\n",
        "Dada uma linha de texto, define um programa que determina se a palavra \"hello\" aparece em qualquer posição da linha.\n",
        "\n",
        "Conceitos importantes para este exercício:\n",
        "\n",
        "- `re.search(pattern, string[, flags])` - analisa a `string` e tenta encontrar uma correspondência para a expressão regular `pattern` em qualquer posição da string. Devolve `None` se não encontrar nenhuma correspondência."
      ]
    },
    {
      "cell_type": "code",
      "execution_count": 25,
      "metadata": {
        "id": "TM-qMl-yJ7VS"
      },
      "outputs": [
        {
          "name": "stdout",
          "output_type": "stream",
          "text": [
            "True\n",
            "False\n",
            "True\n"
          ]
        }
      ],
      "source": [
        "line1 = \"hello world\"\n",
        "line2 = \"goodbye world\"\n",
        "line3 = \"hi, hello there\"\n",
        "\n",
        "lines = [line1, line2, line3]\n",
        "\n",
        "def have_hello(lines):\n",
        "    for line in lines:\n",
        "        res = re.search(r\"hello\", line)\n",
        "        print(res != None)\n",
        "\n",
        "have_hello(lines)"
      ]
    },
    {
      "cell_type": "markdown",
      "metadata": {
        "id": "6ZE7klswOy90"
      },
      "source": [
        "### Alínea 1.3\n",
        "\n",
        "Dada uma linha de texto, define um programa que pesquisa por todas as ocorrências da palavra \"hello\" dentro da linha, admitindo que a palavra seja escrita com maiúsculas ou minúsculas.\n",
        "\n",
        "Conceitos importantes para este exercício:\n",
        "\n",
        "- `re.findall(pattern, string[, flags])` - encontra todas as correspondências que não se sobreponham da expressão regular `pattern` na `string`. Devolve uma lista."
      ]
    },
    {
      "cell_type": "code",
      "execution_count": 9,
      "metadata": {
        "id": "aHB_l7g5OzNY"
      },
      "outputs": [
        {
          "data": {
            "text/plain": [
              "['Hello', 'hello', 'hello', 'HELLO']"
            ]
          },
          "execution_count": 9,
          "metadata": {},
          "output_type": "execute_result"
        }
      ],
      "source": [
        "line = \"Hello there! Uh, hi, hello, it's me... Heyyy, hello? HELLO!\"\n",
        "\n",
        "def all_hello(line):\n",
        "    return re.findall(r\"hello\", line, flags=re.IGNORECASE)\n",
        "\n",
        "all_hello(line)"
      ]
    },
    {
      "cell_type": "markdown",
      "metadata": {
        "id": "TSwUj26OPRmP"
      },
      "source": [
        "### Alínea 1.4\n",
        "\n",
        "Dada uma linha de texto, define um programa que pesquisa por todas as ocorrências da palavra \"hello\" dentro da linha, substituindo cada uma por \"\\*YEP\\*\".\n",
        "\n",
        "Conceitos importantes para este exercício:\n",
        "\n",
        "- `re.sub(pattern, replacement, string, count = 0, flags = 0)` - substitui todas as correspondências da expressão regular `pattern` na `string` por `replacement`. `replacement` pode ser uma string, uma expressão regular ou uma função que recebe uma correspondência e devolve uma string. O parâmetro `count` determina o limite de substituições (por defeito é 0, ou seja, não há limite)."
      ]
    },
    {
      "cell_type": "code",
      "execution_count": 10,
      "metadata": {
        "id": "SXLK2rhMPf11"
      },
      "outputs": [
        {
          "name": "stdout",
          "output_type": "stream",
          "text": [
            "Frase Original: Hello there! Uh, hi, hello, it's me... Heyyy, hello? HELLO!\n",
            "Frase com Substituição: *YEP* there! Uh, hi, *YEP*, it's me... Heyyy, *YEP*? *YEP*!\n"
          ]
        }
      ],
      "source": [
        "line = \"Hello there! Uh, hi, hello, it's me... Heyyy, hello? HELLO!\"\n",
        "\n",
        "def sub(line):\n",
        "    return re.sub(r\"hello\", \"*YEP*\", line, flags=re.IGNORECASE)\n",
        "\n",
        "print(f'Frase Original: {line}\\n'\n",
        "      f'Frase com Substituição: {sub(line)}')"
      ]
    },
    {
      "cell_type": "markdown",
      "metadata": {
        "id": "MrgsEzJCPgbO"
      },
      "source": [
        "### Alínea 1.5\n",
        "\n",
        "Dada uma linha de texto, define um programa que pesquisa por todas as ocorrências do caracter vírgula, separando cada parte da linha por esse caracter.\n",
        "\n",
        "Conceitos importantes para este exercício:\n",
        "\n",
        "- `re.split(pattern, string, maxsplit = 0, flags = 0)` - divide a `string` com base nas correspondências da expressão regular `pattern`. O parâmetro `maxsplit` pode ser usado para definir um limite de divisões (por defeito é 0, que corresponde a divisões infinitas)."
      ]
    },
    {
      "cell_type": "code",
      "execution_count": 11,
      "metadata": {
        "id": "vrwiid6XPgvg"
      },
      "outputs": [
        {
          "data": {
            "text/plain": [
              "['bananas',\n",
              " ' laranjas',\n",
              " ' maçãs',\n",
              " ' uvas',\n",
              " ' melancias',\n",
              " ' cerejas',\n",
              " ' kiwis',\n",
              " ' etc.']"
            ]
          },
          "execution_count": 11,
          "metadata": {},
          "output_type": "execute_result"
        }
      ],
      "source": [
        "line = \"bananas, laranjas, maçãs, uvas, melancias, cerejas, kiwis, etc.\"\n",
        "\n",
        "def comma(line):\n",
        "    return re.split(r\",\", line)\n",
        "\n",
        "comma(line)"
      ]
    },
    {
      "cell_type": "markdown",
      "metadata": {
        "id": "6QP0erT4iSzE"
      },
      "source": [
        "## Exercício 2\n",
        "\n",
        "Define a função `palavra_magica` que recebe uma frase e determina se a mesma termina com a expressão \"por favor\", seguida de um sinal válido de pontuação."
      ]
    },
    {
      "cell_type": "code",
      "execution_count": 16,
      "metadata": {
        "id": "MhCC49z7jU7n"
      },
      "outputs": [
        {
          "name": "stdout",
          "output_type": "stream",
          "text": [
            "True\n",
            "False\n"
          ]
        }
      ],
      "source": [
        "def palavra_magica(frase):\n",
        "    return bool(re.search(r\"\\bpor favor[.!?]$\", frase, re.IGNORECASE)) \n",
        "\n",
        "print(palavra_magica(\"Posso ir à casa de banho, por favor?\"))\n",
        "print(palavra_magica(\"Preciso de um favor.\"))"
      ]
    },
    {
      "cell_type": "markdown",
      "metadata": {
        "id": "L71wvPCujpBD"
      },
      "source": [
        "## Exercício 3\n",
        "\n",
        "Define a função `narcissismo` que calcula quantas vezes a palavra \"eu\" aparece numa string."
      ]
    },
    {
      "cell_type": "code",
      "execution_count": 17,
      "metadata": {
        "id": "0HxFCow5nOj8"
      },
      "outputs": [
        {
          "name": "stdout",
          "output_type": "stream",
          "text": [
            "6\n"
          ]
        }
      ],
      "source": [
        "def narcissismo(linha):\n",
        "  return len(re.findall(r\"\\beu\\b\", linha, flags=re.IGNORECASE))\n",
        "\n",
        "print(narcissismo(\"Eu não sei se eu quero continuar a ser eu. Por outro lado, eu ser eu é uma parte importante de quem EU sou.\"))"
      ]
    },
    {
      "cell_type": "markdown",
      "metadata": {
        "id": "EKETfRaOolO4"
      },
      "source": [
        "## Exercício 4\n",
        "\n",
        "Define a função `troca_de_curso` que substitui todas as ocorrências de \"LEI\" numa linha pelo nome do curso dado à função."
      ]
    },
    {
      "cell_type": "code",
      "execution_count": 18,
      "metadata": {
        "id": "8ZVPMxfZpRrx"
      },
      "outputs": [
        {
          "name": "stdout",
          "output_type": "stream",
          "text": [
            "BIOM é o melhor curso! Adoro BIOM! Gostar de BIOM devia ser uma lei.\n"
          ]
        }
      ],
      "source": [
        "def troca_de_curso(linha, novo_curso):\n",
        "  return re.sub(r\"\\bLEI\\b\", novo_curso, linha)\n",
        "\n",
        "print(troca_de_curso(\"LEI é o melhor curso! Adoro LEI! Gostar de LEI devia ser uma lei.\", \"BIOM\"))"
      ]
    },
    {
      "cell_type": "markdown",
      "metadata": {
        "id": "GZKMkTKcp886"
      },
      "source": [
        "## Exercício 5\n",
        "\n",
        "Define a função `soma_string` que recebe uma string com vários números separados por uma vírgula (e.g., \"1,2,3,4,5\") e devolve a soma destes números."
      ]
    },
    {
      "cell_type": "code",
      "execution_count": 36,
      "metadata": {
        "id": "ExqmZwj_rzuR"
      },
      "outputs": [
        {
          "name": "stdout",
          "output_type": "stream",
          "text": [
            "6\n"
          ]
        }
      ],
      "source": [
        "def soma_string(linha):\n",
        "  return sum(int(x) for x in re.split(r\",\", linha))\n",
        "\n",
        "print(soma_string(\"4,-6,2,3,8,-3,0,2,-5,1\"))"
      ]
    },
    {
      "cell_type": "markdown",
      "metadata": {
        "id": "n49iafoNzw-3"
      },
      "source": [
        "## Exercício 6\n",
        "\n",
        "Define a função `pronomes` que encontra e devolve todos os pronomes pessoais presentes numa frase, i.e., \"eu\", \"tu\", \"ele\", \"ela\", etc., com atenção para letras maiúsculas ou minúsculas."
      ]
    },
    {
      "cell_type": "code",
      "execution_count": 38,
      "metadata": {
        "id": "RnuCrz2H0DWq"
      },
      "outputs": [
        {
          "name": "stdout",
          "output_type": "stream",
          "text": [
            "['Eu', 'tu', 'ele', 'Ela', 'nós', 'eles', 'elas']\n"
          ]
        }
      ],
      "source": [
        "p = r\"[et]u|el[ea]s?|[nv]ós\"\n",
        "\n",
        "def pronomes(frase):\n",
        "    return re.findall(p, frase, re.IGNORECASE)\n",
        "\n",
        "print(pronomes(\"Eu vi o João, tu falaste com ele. Ela estava lá também, nós decidimos ajudar, e eles e elas ficaram contentes.\"))"
      ]
    },
    {
      "cell_type": "markdown",
      "metadata": {
        "id": "BHMk88OQ0XFY"
      },
      "source": [
        "## Exercício 7\n",
        "\n",
        "Define a função `variavel_valida` que recebe uma string e determina se a mesma é um nome válido para uma variável, ou seja, se começa por uma letra e apenas contém letras, números ou *underscores*."
      ]
    },
    {
      "cell_type": "code",
      "execution_count": 29,
      "metadata": {
        "id": "YTQW91Ws1WLx"
      },
      "outputs": [
        {
          "name": "stdout",
          "output_type": "stream",
          "text": [
            "True\n",
            "False\n",
            "False\n",
            "False\n",
            "True\n"
          ]
        }
      ],
      "source": [
        "def variavel_valida(string):\n",
        "    return re.match(r\"[A-Za-z]\\w*$\", string) != None\n",
        "\n",
        "print(variavel_valida(\"variavel1\"))  \n",
        "print(variavel_valida(\"_variavel\"))  \n",
        "print(variavel_valida(\"1variavel\"))  \n",
        "print(variavel_valida(\"variavel#1\")) \n",
        "print(variavel_valida(\"variavel_2\")) "
      ]
    },
    {
      "cell_type": "markdown",
      "metadata": {
        "id": "ZRWbgkMM5qzx"
      },
      "source": [
        "## Exercício 8\n",
        "\n",
        "Define a função `inteiros` que devolve todos os números inteiros presentes numa string. Um número inteiro pode conter um ou mais dígitos e pode ser positivo ou negativo."
      ]
    },
    {
      "cell_type": "code",
      "execution_count": 31,
      "metadata": {
        "id": "jsmiEi6gA7vh"
      },
      "outputs": [
        {
          "name": "stdout",
          "output_type": "stream",
          "text": [
            "['12', '-34', '56', '-78']\n"
          ]
        }
      ],
      "source": [
        "def inteiros(string):\n",
        "    return re.findall(r\"-?\\d+\", string)\n",
        "\n",
        "print(inteiros(\"12, -34, 56, -78\"))                 "
      ]
    },
    {
      "cell_type": "markdown",
      "metadata": {
        "id": "QhpGhtBT7aD3"
      },
      "source": [
        "## Exercício 9\n",
        "\n",
        "Define a função `underscores` que substitui todos os espaços numa string por *underscores*. Se aparecerem vários espaços seguidos, devem ser substituídos por apenas um *underscore*."
      ]
    },
    {
      "cell_type": "code",
      "execution_count": 33,
      "metadata": {
        "id": "1YTIkZT-6Ase"
      },
      "outputs": [
        {
          "name": "stdout",
          "output_type": "stream",
          "text": [
            "Eu_gosto_de_programar.\n",
            "Espaços_múltiplos_devem_ser_substituídos.\n",
            "Aqui_não_há_espaço\n"
          ]
        }
      ],
      "source": [
        "def underscores(string):\n",
        "    return re.sub(r\"\\s+\", \"_\", string)\n",
        "\n",
        "print(underscores(\"Eu  gosto  de  programar.\"))  \n",
        "print(underscores(\"Espaços       múltiplos         devem  ser  substituídos.\")) \n",
        "print(underscores(\"Aqui não há espaço\")) "
      ]
    },
    {
      "cell_type": "markdown",
      "metadata": {
        "id": "xcUrRlIy8uof"
      },
      "source": [
        "## Exercício 10\n",
        "\n",
        "Define a função `codigos_postais` que recebe uma lista de códigos postais válidos e divide-os com base no hífen. A função deve devolver uma lista de pares."
      ]
    },
    {
      "cell_type": "code",
      "execution_count": null,
      "metadata": {
        "id": "6xj01Oy09ncO"
      },
      "outputs": [
        {
          "name": "stdout",
          "output_type": "stream",
          "text": [
            "[('4700', '000'), ('1234', '567'), ('8541', '543'), ('4123', '974'), ('9481', '025')]\n"
          ]
        }
      ],
      "source": [
        "lista = [\n",
        "    \"4700-000\",\n",
        "    \"1234-567\",\n",
        "    \"8541-543\",\n",
        "    \"4123-974\",\n",
        "    \"9481-025\"\n",
        "]\n",
        "\n",
        "def codigos_postais(lista):\n",
        "    res = []\n",
        "    for codigo in lista:\n",
        "        par = re.split(r\"-\", codigo)\n",
        "        res.append((par[0], par[1]))\n",
        "    return res\n",
        "\n",
        "print(codigos_postais(lista))"
      ]
    }
  ],
  "metadata": {
    "colab": {
      "provenance": [],
      "toc_visible": true
    },
    "kernelspec": {
      "display_name": "Python 3",
      "name": "python3"
    },
    "language_info": {
      "codemirror_mode": {
        "name": "ipython",
        "version": 3
      },
      "file_extension": ".py",
      "mimetype": "text/x-python",
      "name": "python",
      "nbconvert_exporter": "python",
      "pygments_lexer": "ipython3",
      "version": "3.12.7"
    }
  },
  "nbformat": 4,
  "nbformat_minor": 0
}
